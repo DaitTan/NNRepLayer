{
 "cells": [
  {
   "cell_type": "code",
   "execution_count": 1,
   "metadata": {},
   "outputs": [
    {
     "name": "stderr",
     "output_type": "stream",
     "text": [
      "2022-02-12 04:54:13.579841: W tensorflow/stream_executor/platform/default/dso_loader.cc:64] Could not load dynamic library 'libcudart.so.11.0'; dlerror: libcudart.so.11.0: cannot open shared object file: No such file or directory; LD_LIBRARY_PATH: /home/daittan/catkin_ws/devel/lib:/opt/ros/melodic/lib:/home/daittan/NN-Repair/gurobi912/linux64/lib\n",
      "2022-02-12 04:54:13.579871: I tensorflow/stream_executor/cuda/cudart_stub.cc:29] Ignore above cudart dlerror if you do not have a GPU set up on your machine.\n",
      "2022-02-12 04:54:15.020406: I tensorflow/stream_executor/cuda/cuda_gpu_executor.cc:937] successful NUMA node read from SysFS had negative value (-1), but there must be at least one NUMA node, so returning NUMA node zero\n",
      "2022-02-12 04:54:15.020851: W tensorflow/stream_executor/platform/default/dso_loader.cc:64] Could not load dynamic library 'libcudart.so.11.0'; dlerror: libcudart.so.11.0: cannot open shared object file: No such file or directory; LD_LIBRARY_PATH: /home/daittan/catkin_ws/devel/lib:/opt/ros/melodic/lib:/home/daittan/NN-Repair/gurobi912/linux64/lib\n",
      "2022-02-12 04:54:15.020965: W tensorflow/stream_executor/platform/default/dso_loader.cc:64] Could not load dynamic library 'libcublas.so.11'; dlerror: libcublas.so.11: cannot open shared object file: No such file or directory; LD_LIBRARY_PATH: /home/daittan/catkin_ws/devel/lib:/opt/ros/melodic/lib:/home/daittan/NN-Repair/gurobi912/linux64/lib\n",
      "2022-02-12 04:54:15.021060: W tensorflow/stream_executor/platform/default/dso_loader.cc:64] Could not load dynamic library 'libcublasLt.so.11'; dlerror: libcublasLt.so.11: cannot open shared object file: No such file or directory; LD_LIBRARY_PATH: /home/daittan/catkin_ws/devel/lib:/opt/ros/melodic/lib:/home/daittan/NN-Repair/gurobi912/linux64/lib\n",
      "2022-02-12 04:54:15.021157: W tensorflow/stream_executor/platform/default/dso_loader.cc:64] Could not load dynamic library 'libcufft.so.10'; dlerror: libcufft.so.10: cannot open shared object file: No such file or directory; LD_LIBRARY_PATH: /home/daittan/catkin_ws/devel/lib:/opt/ros/melodic/lib:/home/daittan/NN-Repair/gurobi912/linux64/lib\n",
      "2022-02-12 04:54:15.021248: W tensorflow/stream_executor/platform/default/dso_loader.cc:64] Could not load dynamic library 'libcurand.so.10'; dlerror: libcurand.so.10: cannot open shared object file: No such file or directory; LD_LIBRARY_PATH: /home/daittan/catkin_ws/devel/lib:/opt/ros/melodic/lib:/home/daittan/NN-Repair/gurobi912/linux64/lib\n",
      "2022-02-12 04:54:15.021707: W tensorflow/stream_executor/platform/default/dso_loader.cc:64] Could not load dynamic library 'libcusolver.so.11'; dlerror: libcusolver.so.11: cannot open shared object file: No such file or directory; LD_LIBRARY_PATH: /home/daittan/catkin_ws/devel/lib:/opt/ros/melodic/lib:/home/daittan/NN-Repair/gurobi912/linux64/lib\n",
      "2022-02-12 04:54:15.021801: W tensorflow/stream_executor/platform/default/dso_loader.cc:64] Could not load dynamic library 'libcusparse.so.11'; dlerror: libcusparse.so.11: cannot open shared object file: No such file or directory; LD_LIBRARY_PATH: /home/daittan/catkin_ws/devel/lib:/opt/ros/melodic/lib:/home/daittan/NN-Repair/gurobi912/linux64/lib\n",
      "2022-02-12 04:54:15.021897: W tensorflow/stream_executor/platform/default/dso_loader.cc:64] Could not load dynamic library 'libcudnn.so.8'; dlerror: libcudnn.so.8: cannot open shared object file: No such file or directory; LD_LIBRARY_PATH: /home/daittan/catkin_ws/devel/lib:/opt/ros/melodic/lib:/home/daittan/NN-Repair/gurobi912/linux64/lib\n",
      "2022-02-12 04:54:15.021911: W tensorflow/core/common_runtime/gpu/gpu_device.cc:1835] Cannot dlopen some GPU libraries. Please make sure the missing libraries mentioned above are installed properly if you would like to use GPU. Follow the guide at https://www.tensorflow.org/install/gpu for how to download and setup the required libraries for your platform.\n",
      "Skipping registering GPU devices...\n"
     ]
    }
   ],
   "source": [
    "import numpy as np\n",
    "import tensorflow as tf\n",
    "gpus = tf.config.experimental.list_physical_devices('GPU')\n",
    "if gpus:\n",
    "    try:\n",
    "        # Currently, memory growth needs to be the same across GPUs\n",
    "        for gpu in gpus:\n",
    "            tf.config.experimental.set_memory_growth(gpu, True)\n",
    "        logical_gpus = tf.config.experimental.list_logical_devices('GPU')\n",
    "        print(len(gpus), \"Physical GPUs,\", len(logical_gpus), \"Logical GPUs\")\n",
    "    except RuntimeError as e:\n",
    "        # Memory growth must be set before GPUs have been initialized\n",
    "        print(e)\n",
    "from pprint import pprint\n",
    "from numpy import sin, cos, pi\n",
    "from matplotlib import pyplot as plt\n",
    "from shapely.geometry import Polygon\n",
    "from tensorflow import keras\n",
    "from pyomo.gdp import *\n",
    "from scipy.spatial import ConvexHull\n",
    "import os\n",
    "import pickle\n",
    "from tensorflow import keras\n",
    "import tensorflow.keras.backend as kb"
   ]
  },
  {
   "cell_type": "code",
   "execution_count": 2,
   "metadata": {},
   "outputs": [
    {
     "name": "stdout",
     "output_type": "stream",
     "text": [
      "2 Physical GPUs, 2 Logical GPUs\n"
     ]
    },
    {
     "name": "stderr",
     "output_type": "stream",
     "text": [
      "2022-02-12 14:25:43.297755: I tensorflow/core/platform/cpu_feature_guard.cc:151] This TensorFlow binary is optimized with oneAPI Deep Neural Network Library (oneDNN) to use the following CPU instructions in performance-critical operations:  AVX2 AVX512F FMA\n",
      "To enable them in other operations, rebuild TensorFlow with the appropriate compiler flags.\n",
      "2022-02-12 14:25:44.100822: I tensorflow/core/common_runtime/gpu/gpu_device.cc:1525] Created device /job:localhost/replica:0/task:0/device:GPU:0 with 6670 MB memory:  -> device: 0, name: Quadro RTX 4000, pci bus id: 0000:bd:00.0, compute capability: 7.5\n",
      "2022-02-12 14:25:44.101387: I tensorflow/core/common_runtime/gpu/gpu_device.cc:1525] Created device /job:localhost/replica:0/task:0/device:GPU:1 with 7271 MB memory:  -> device: 1, name: NVIDIA GeForce GTX 1080, pci bus id: 0000:91:00.0, compute capability: 6.1\n"
     ]
    }
   ],
   "source": [
    "from nnreplayer.utils.options import Options\n",
    "from nnreplayer.repair.perform_repair import perform_repair"
   ]
  },
  {
   "cell_type": "code",
   "execution_count": 8,
   "metadata": {},
   "outputs": [],
   "source": [
    "\n",
    "#define costum loss function\n",
    "def keras_SSE_costum(y_actual, y_predicted):\n",
    "    err = y_actual - y_predicted\n",
    "    loss_value = kb.sum(kb.square(err))\n",
    "    return loss_value\n",
    "\n",
    "model_orig = keras.models.load_model(os.getcwd()+'/affine_transform_original_model', compile= False)\n",
    "\n",
    "\n",
    "\n",
    "\n",
    "\n",
    "with open(os.getcwd() + \"/affine_io_dataset.pickle\", \"rb\") as data:\n",
    "    x_train, y_train, x_test, y_test = pickle.load(data)\n",
    "\n"
   ]
  },
  {
   "cell_type": "code",
   "execution_count": 9,
   "metadata": {},
   "outputs": [],
   "source": [
    "\n",
    "num_input = 3\n",
    "num_output = 3\n",
    "#num_layers_0 = 3\n",
    "num_hidden_0 = 20\n",
    "num_hidden_1 = 20\n",
    "architecture = [num_input, num_hidden_0, num_hidden_1, num_output]\n",
    "architecture = [num_input, num_hidden_0, num_hidden_1, num_output]\n",
    "\n",
    "def squared_sum(x, y):\n",
    "    m,n = np.array(x).shape\n",
    "    _squared_sum = 0\n",
    "    for i in range(m):\n",
    "        for j in range(n):\n",
    "            _squared_sum += (x[i, j] - y[i, j]) ** 2\n",
    "    return _squared_sum\n",
    "    \n"
   ]
  },
  {
   "cell_type": "code",
   "execution_count": 10,
   "metadata": {},
   "outputs": [],
   "source": [
    "\n",
    "\n",
    "\n",
    "\n",
    "\n",
    "transform1 = np.array([[1, 0, 2.5], [0, 1, 2.5], [0, 0, 1]])  # transformation matrix 1\n",
    "transform2 = np.array([[1, 0, -2.5], [0, 1, -2.5], [0, 0, 1]])  # transformation matrix 2\n",
    "rotate = np.array([[cos(pi / 4), -sin(pi / 4), 0], [sin(pi / 4), cos(pi / 4), 0], [0, 0, 1]])  # rotation matrix\n",
    "inp = np.array([[1.25, 3.75, 3.75, 1.25],[1.25, 1.25, 3.75, 3.75],[1, 1 , 1, 1]])\n",
    "out = np.matmul(np.matmul(np.matmul(transform1, rotate), transform2), inp)\n",
    "poly3 = Polygon([(out[0, 0], out[1, 0]), (out[0, 1], out[1, 1]), (out[0, 2], out[1, 2]), (out[0, 3], out[1, 3])])\n",
    "\n",
    "# get the coordinates of the exterior points of the polytope\n",
    "ex_points = np.array(poly3.exterior.coords)\n",
    "\n",
    "# get A and b matrices\n",
    "hull = ConvexHull(ex_points)\n",
    "eqs = np.array(hull.equations)\n",
    "A = eqs[0:eqs.shape[0],0:eqs.shape[1]-1]\n",
    "b = -eqs[0:eqs.shape[0],-1]\n",
    "\n",
    "b = np.array([b]).T\n",
    "\n"
   ]
  },
  {
   "cell_type": "code",
   "execution_count": 11,
   "metadata": {},
   "outputs": [
    {
     "ename": "NameError",
     "evalue": "name 'Options' is not defined",
     "output_type": "error",
     "traceback": [
      "\u001b[0;31m---------------------------------------------------------------------------\u001b[0m",
      "\u001b[0;31mNameError\u001b[0m                                 Traceback (most recent call last)",
      "\u001b[0;32m/tmp/ipykernel_10605/277118473.py\u001b[0m in \u001b[0;36m<module>\u001b[0;34m\u001b[0m\n\u001b[1;32m      1\u001b[0m \u001b[0mlayer_to_repair\u001b[0m \u001b[0;34m=\u001b[0m \u001b[0;36m3\u001b[0m\u001b[0;34m\u001b[0m\u001b[0;34m\u001b[0m\u001b[0m\n\u001b[1;32m      2\u001b[0m \u001b[0mtrain_dataset\u001b[0m \u001b[0;34m=\u001b[0m \u001b[0;34m(\u001b[0m\u001b[0mx_train\u001b[0m\u001b[0;34m,\u001b[0m \u001b[0my_train\u001b[0m\u001b[0;34m)\u001b[0m\u001b[0;34m\u001b[0m\u001b[0;34m\u001b[0m\u001b[0m\n\u001b[0;32m----> 3\u001b[0;31m \u001b[0moptions\u001b[0m \u001b[0;34m=\u001b[0m \u001b[0mOptions\u001b[0m\u001b[0;34m(\u001b[0m\u001b[0;34m'gdp.bigm'\u001b[0m\u001b[0;34m,\u001b[0m \u001b[0;34m'gurobi'\u001b[0m\u001b[0;34m,\u001b[0m \u001b[0;34m\"python\"\u001b[0m\u001b[0;34m,\u001b[0m \u001b[0;34m\"keras\"\u001b[0m\u001b[0;34m,\u001b[0m \u001b[0;36m100\u001b[0m\u001b[0;34m)\u001b[0m\u001b[0;34m\u001b[0m\u001b[0;34m\u001b[0m\u001b[0m\n\u001b[0m\u001b[1;32m      4\u001b[0m \u001b[0;34m\u001b[0m\u001b[0m\n\u001b[1;32m      5\u001b[0m \u001b[0mresults\u001b[0m \u001b[0;34m=\u001b[0m \u001b[0mperform_repair\u001b[0m\u001b[0;34m(\u001b[0m\u001b[0mlayer_to_repair\u001b[0m\u001b[0;34m,\u001b[0m \u001b[0mmodel_orig\u001b[0m\u001b[0;34m,\u001b[0m \u001b[0marchitecture\u001b[0m\u001b[0;34m,\u001b[0m \u001b[0mA\u001b[0m\u001b[0;34m,\u001b[0m\u001b[0mb\u001b[0m\u001b[0;34m,\u001b[0m \u001b[0msquared_sum\u001b[0m\u001b[0;34m,\u001b[0m \u001b[0mtrain_dataset\u001b[0m\u001b[0;34m,\u001b[0m \u001b[0moptions\u001b[0m\u001b[0;34m)\u001b[0m\u001b[0;34m\u001b[0m\u001b[0;34m\u001b[0m\u001b[0m\n",
      "\u001b[0;31mNameError\u001b[0m: name 'Options' is not defined"
     ]
    }
   ],
   "source": [
    "\n",
    "layer_to_repair = 3\n",
    "train_dataset = (x_train, y_train)\n",
    "options = Options('gdp.bigm', 'gurobi', \"python\", \"keras\", 100)\n",
    "\n",
    "results = perform_repair(layer_to_repair, model_orig, architecture, A,b, squared_sum, train_dataset, options)\n",
    "\n",
    "\n",
    "y_new_train = results.new_model.predict(x_train)\n",
    "y_new_test = results.new_model.predict(x_test)\n",
    "\n",
    "\n",
    "y_train_original = model_orig.predict(x_train)\n",
    "y_test_original = model_orig.predict(x_test)\n",
    "\n",
    "print(\"weight_error: {}\".format(results.weight_error))\n",
    "print(\"bias_error: {}\".format(results.bias_error))\n",
    "\n"
   ]
  },
  {
   "cell_type": "code",
   "execution_count": null,
   "metadata": {},
   "outputs": [],
   "source": [
    "def plot_model(model, x_true, y_true, arg):\n",
    "    y_predict = model.predict(x_true)\n",
    "    \n",
    "    ## training output\n",
    "    plt.plot(y_true[:,0], y_true[:,1], 'ro', label='Original Samples')\n",
    "\n",
    "    ## predicted output\n",
    "    plt.plot(y_predict[:,0], y_predict[:,1], 'ko', label='Predicted Output')\n",
    "    plt.title(arg)\n",
    "    plt.xlabel('x')\n",
    "    plt.ylabel('y')\n",
    "    plt.legend(loc=\"upper left\")\n",
    "    plt.show()\n",
    "    return y_predict\n",
    "\n"
   ]
  },
  {
   "cell_type": "code",
   "execution_count": null,
   "metadata": {},
   "outputs": [],
   "source": [
    "num_pts = 200\n",
    "## polygon vertices\n",
    "poly = Polygon([(1, 1), (4, 1), (4, 4), (1, 4)])\n",
    "poly2 = Polygon([(2.5, 4.621), (4.624, 2.5), (2.5, 0.3787), (0.3787, 2.5)])  # transformed polygon vertices\n",
    "x_poly, y_poly = poly.exterior.xy\n",
    "x_poly2, y_poly2 = poly2.exterior.xy\n",
    "x_poly3, y_poly3 = poly3.exterior.xy\n",
    "print(x_train.shape)\n",
    "plt.plot(x_train[:,0], x_train[:,1], 'bo', label='Training samples')\n",
    "plt.plot(y_train_original[:,0], y_train_original[:,1], 'ro', label='Original Model ouput')\n",
    "plt.plot(x_poly, y_poly, color='blue', alpha=0.7, linewidth=3, solid_capstyle='round', zorder=2, label='Input Set')\n",
    "plt.plot(x_poly2, y_poly2, color='red', alpha=0.7, linewidth=3, solid_capstyle='round', zorder=2, label='Target Set')\n",
    "plt.plot(x_poly3, y_poly3, color='green', alpha=0.7, linewidth=3, solid_capstyle='round', zorder=2, label='Target Set')\n",
    "plt.plot(y_new_train[:,0], y_new_train[:,1], 'yo', label='Repaired Model Ouptut')\n",
    "plt.legend(loc=\"upper left\")\n",
    "plt.show()\n",
    "\n",
    "num_pts = 200\n",
    "## polygon vertices\n",
    "poly = Polygon([(1, 1), (4, 1), (4, 4), (1, 4)])\n",
    "poly2 = Polygon([(2.5, 4.621), (4.624, 2.5), (2.5, 0.3787), (0.3787, 2.5)])  # transformed polygon vertices\n",
    "x_poly, y_poly = poly.exterior.xy\n",
    "x_poly2, y_poly2 = poly2.exterior.xy\n",
    "x_poly3, y_poly3 = poly3.exterior.xy\n",
    "print(x_train.shape)\n",
    "plt.plot(x_test[:,0], x_test[:,1], 'bo', label='Training samples')\n",
    "plt.plot(y_test_original[:,0], y_test_original[:,1], 'ro', label='Original Model ouput')\n",
    "plt.plot(x_poly, y_poly, color='blue', alpha=0.7, linewidth=3, solid_capstyle='round', zorder=2, label='Input Set')\n",
    "plt.plot(x_poly2, y_poly2, color='red', alpha=0.7, linewidth=3, solid_capstyle='round', zorder=2, label='Target Set')\n",
    "plt.plot(x_poly3, y_poly3, color='green', alpha=0.7, linewidth=3, solid_capstyle='round', zorder=2, label='Target Set')\n",
    "plt.plot(y_new_test[:,0], y_new_test[:,1], 'yo', label='Repaired Model Ouptut')\n",
    "plt.legend(loc=\"upper left\")\n",
    "plt.show()\n",
    "\n",
    "results.new_model.save(\"repaired_affine_transform_layer{}\".format(layer_to_repair), '/home/daittan/NN-Repair/NN-Repair/')\n"
   ]
  }
 ],
 "metadata": {
  "interpreter": {
   "hash": "df0893f56f349688326838aaeea0de204df53a132722cbd565e54b24a8fec5f6"
  },
  "kernelspec": {
   "display_name": "Python 3 (ipykernel)",
   "language": "python",
   "name": "python3"
  },
  "language_info": {
   "codemirror_mode": {
    "name": "ipython",
    "version": 3
   },
   "file_extension": ".py",
   "mimetype": "text/x-python",
   "name": "python",
   "nbconvert_exporter": "python",
   "pygments_lexer": "ipython3",
   "version": "3.8.5"
  }
 },
 "nbformat": 4,
 "nbformat_minor": 2
}
